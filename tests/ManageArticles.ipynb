{
 "cells": [
  {
   "cell_type": "code",
   "execution_count": 4,
   "metadata": {
    "collapsed": false
   },
   "outputs": [],
   "source": [
    "from IPython.display import display, HTML\n",
    "import pandas as pd\n",
    "ArticleStore= pd.read_pickle('ArticleStore.pkl')"
   ]
  },
  {
   "cell_type": "code",
   "execution_count": 95,
   "metadata": {
    "collapsed": false
   },
   "outputs": [],
   "source": [
    "index = 1127"
   ]
  },
  {
   "cell_type": "code",
   "execution_count": 96,
   "metadata": {
    "collapsed": false
   },
   "outputs": [
    {
     "data": {
      "text/html": [
       "<h1>MacBook 2016 review: all of the possibilities, all of the realities</h1>"
      ],
      "text/plain": [
       "<IPython.core.display.HTML object>"
      ]
     },
     "metadata": {},
     "output_type": "display_data"
    },
    {
     "data": {
      "text/html": [
       "<a href=\"http://www.theverge.com/2016/5/5/11592886/apple-macbook-review-2016-rose-gold\"><img src=\"https://cdn0.vox-cdn.com/uploads/archives/635947/static.98b1607a96b15ef73281f17a93cf6660.jpg\"></a>"
      ],
      "text/plain": [
       "<IPython.core.display.HTML object>"
      ]
     },
     "metadata": {},
     "output_type": "display_data"
    },
    {
     "data": {
      "text/html": [
       "Last year’s introduction of the 12-inch MacBook — that’s just MacBook, not MacBook Air or MacBook Pro — highlighted some of the best elements of Apple design.\n",
       "Like last year’s gold MacBook, pink is a differentiator; it screams, \"I’ve got the new MacBook!\"\n",
       "Again, this is all relative: while this is much better than my three-and-a-half-year-old MacBook Pro, it’s still not as impressive as the battery life on a 13-inch MacBook Air.\n",
       "It also has a rich-looking, 12-inch Retina display (2304 x 1440 resolution), which the MacBook Air does not have.\n",
       "And actual video-editing pros are still more likely to turn to a MacBook Pro, at least for now."
      ],
      "text/plain": [
       "<IPython.core.display.HTML object>"
      ]
     },
     "metadata": {},
     "output_type": "display_data"
    }
   ],
   "source": [
    "display(HTML('<h1>'+ArticleStore[\"titre\"].iloc[index]+\"</h1>\"))\n",
    "display(HTML('''<a href=\"'''+str(ArticleStore[\"url\"].iloc[index])+'''\"><img src=\"'''+str(ArticleStore[\"image\"].iloc[index])+'''\"></a>'''))\n",
    "display\n",
    "display(HTML(ArticleStore[\"résumé\"].iloc[index]))"
   ]
  }
 ],
 "metadata": {
  "kernelspec": {
   "display_name": "Python [conda root]",
   "language": "python",
   "name": "conda-root-py"
  },
  "language_info": {
   "codemirror_mode": {
    "name": "ipython",
    "version": 3
   },
   "file_extension": ".py",
   "mimetype": "text/x-python",
   "name": "python",
   "nbconvert_exporter": "python",
   "pygments_lexer": "ipython3",
   "version": "3.5.2"
  }
 },
 "nbformat": 4,
 "nbformat_minor": 1
}
